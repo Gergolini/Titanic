{
 "cells": [
  {
   "cell_type": "code",
   "execution_count": 1,
   "metadata": {},
   "outputs": [],
   "source": [
    "import numpy as np"
   ]
  },
  {
   "cell_type": "code",
   "execution_count": 2,
   "metadata": {},
   "outputs": [],
   "source": [
    "new_list=[1,6,5,4,9]"
   ]
  },
  {
   "cell_type": "code",
   "execution_count": 3,
   "metadata": {},
   "outputs": [
    {
     "data": {
      "text/plain": [
       "[1, 36, 25, 16, 81]"
      ]
     },
     "execution_count": 3,
     "metadata": {},
     "output_type": "execute_result"
    }
   ],
   "source": [
    "squaredlist=[]\n",
    "for a in new_list:\n",
    "    squaredlist.append(a*a)\n",
    "squaredlist"
   ]
  },
  {
   "cell_type": "code",
   "execution_count": 4,
   "metadata": {
    "scrolled": true
   },
   "outputs": [
    {
     "data": {
      "text/plain": [
       "array([ 1, 36, 25, 16, 81], dtype=int32)"
      ]
     },
     "execution_count": 4,
     "metadata": {},
     "output_type": "execute_result"
    }
   ],
   "source": [
    "arr=np.array(new_list)\n",
    "np.square(arr)"
   ]
  },
  {
   "cell_type": "code",
   "execution_count": 5,
   "metadata": {},
   "outputs": [
    {
     "data": {
      "text/plain": [
       "array([ 2,  7,  6,  5, 10])"
      ]
     },
     "execution_count": 5,
     "metadata": {},
     "output_type": "execute_result"
    }
   ],
   "source": [
    "arr+1"
   ]
  },
  {
   "cell_type": "code",
   "execution_count": 6,
   "metadata": {},
   "outputs": [
    {
     "data": {
      "text/plain": [
       "25"
      ]
     },
     "execution_count": 6,
     "metadata": {},
     "output_type": "execute_result"
    }
   ],
   "source": [
    "np.sum(arr)"
   ]
  },
  {
   "cell_type": "code",
   "execution_count": 7,
   "metadata": {},
   "outputs": [
    {
     "data": {
      "text/plain": [
       "array([ 2, 12, 10,  8, 18])"
      ]
     },
     "execution_count": 7,
     "metadata": {},
     "output_type": "execute_result"
    }
   ],
   "source": [
    "arr1=np.array([1,1,1,1,1])\n",
    "arr*2"
   ]
  },
  {
   "cell_type": "code",
   "execution_count": 8,
   "metadata": {},
   "outputs": [],
   "source": [
    "#np.mean=calc mean\n",
    "#np.std=calc standar deviation\n",
    "#np.exp=exponetial of each element\n",
    "#np.pow=raise each element to some power\n",
    "#np.multiply/divide"
   ]
  },
  {
   "cell_type": "code",
   "execution_count": 9,
   "metadata": {},
   "outputs": [
    {
     "data": {
      "text/plain": [
       "array([2, 4, 6, 8])"
      ]
     },
     "execution_count": 9,
     "metadata": {},
     "output_type": "execute_result"
    }
   ],
   "source": [
    "np.arange(2,10,2)"
   ]
  },
  {
   "cell_type": "code",
   "execution_count": 10,
   "metadata": {},
   "outputs": [
    {
     "data": {
      "text/plain": [
       "array([[0., 0., 0., 0., 0.],\n",
       "       [0., 0., 0., 0., 0.],\n",
       "       [0., 0., 0., 0., 0.],\n",
       "       [0., 0., 0., 0., 0.],\n",
       "       [0., 0., 0., 0., 0.]])"
      ]
     },
     "execution_count": 10,
     "metadata": {},
     "output_type": "execute_result"
    }
   ],
   "source": [
    "np.zeros((5,5))"
   ]
  },
  {
   "cell_type": "code",
   "execution_count": 11,
   "metadata": {},
   "outputs": [
    {
     "data": {
      "text/plain": [
       "array([[1., 1., 1.],\n",
       "       [1., 1., 1.],\n",
       "       [1., 1., 1.],\n",
       "       [1., 1., 1.],\n",
       "       [1., 1., 1.]])"
      ]
     },
     "execution_count": 11,
     "metadata": {},
     "output_type": "execute_result"
    }
   ],
   "source": [
    "np.ones((5,3))"
   ]
  },
  {
   "cell_type": "code",
   "execution_count": 12,
   "metadata": {},
   "outputs": [
    {
     "data": {
      "text/plain": [
       "array([[38, 28, 43, 29, 23, 48, 53, 54,  8, 22],\n",
       "       [27, 40, 34, 61, 88, 11, 74, 44, 45, 65],\n",
       "       [72,  3, 82, 57,  5, 90, 98, 62, 27, 71],\n",
       "       [24, 43,  4,  2, 84, 33,  2,  5, 61, 26],\n",
       "       [86, 18, 80, 67,  4, 51, 14, 21, 76, 93],\n",
       "       [93, 13, 38, 99, 35, 32, 13, 66, 32,  4],\n",
       "       [81,  6, 47, 73, 36, 91, 45, 84, 56, 51],\n",
       "       [21, 70, 83,  8,  1, 73, 47, 86, 63, 92],\n",
       "       [53, 11, 83, 94, 97, 19, 13, 26, 25, 50],\n",
       "       [45,  9, 15, 25, 18, 74, 51, 26,  5, 24]])"
      ]
     },
     "execution_count": 12,
     "metadata": {},
     "output_type": "execute_result"
    }
   ],
   "source": [
    "np.random.randint(0,100,(10,10))"
   ]
  },
  {
   "cell_type": "code",
   "execution_count": 13,
   "metadata": {},
   "outputs": [],
   "source": [
    "arr4=np.random.random((10,10))"
   ]
  },
  {
   "cell_type": "code",
   "execution_count": 14,
   "metadata": {},
   "outputs": [
    {
     "data": {
      "text/plain": [
       "array([[-0.37884849,  0.87062838, -0.53150774,  0.3903872 ,  0.39156959,\n",
       "         0.79088979, -0.97919209,  0.10822755,  0.90824237, -0.22787872],\n",
       "       [ 0.29596227,  0.13656261,  0.04406006,  0.31015112, -0.18101026,\n",
       "        -0.94280386,  0.16785656,  0.62616362, -0.58646803, -0.09801857],\n",
       "       [ 0.15602802, -0.79426185, -0.49052129,  0.67066023, -0.85400615,\n",
       "         0.3304035 ,  0.10412171,  0.84556386,  0.15047813,  0.83288359],\n",
       "       [-0.69309304,  0.80331057, -0.57627329, -0.93318407, -0.42418705,\n",
       "        -0.59390136,  0.311276  ,  0.44537416,  0.57784805,  0.78719719],\n",
       "       [-0.75099672, -0.67111904, -0.49540033,  0.93698981, -0.05932835,\n",
       "         0.87345014,  0.06710338, -0.21069378,  0.43476292, -0.09595125],\n",
       "       [ 0.15490649, -0.79517615,  0.86586481,  0.6836388 ,  0.19567778,\n",
       "         0.29742517,  0.70744365,  0.89003058,  0.51519428,  0.08973185],\n",
       "       [ 0.57372742,  0.5560062 ,  0.15879244,  0.59787639,  0.692444  ,\n",
       "        -0.97118247,  0.72412456, -0.88264901, -0.48207061,  0.62948398],\n",
       "       [-0.62961199,  0.19994241, -0.86001191,  0.48836729, -0.08795266,\n",
       "         0.5756424 , -0.45396156,  0.37696128,  0.0101904 ,  0.73848743],\n",
       "       [-0.54877986, -0.75850078,  0.02895931,  0.85982127,  0.08324223,\n",
       "         0.72371488, -0.45732253, -0.61092384, -0.35105224, -0.16880711],\n",
       "       [-0.48526822,  0.9597999 ,  0.04990497, -0.60779701,  0.38100223,\n",
       "        -0.18158237, -0.85487979,  0.57742753,  0.78599628, -0.89886412]])"
      ]
     },
     "execution_count": 14,
     "metadata": {},
     "output_type": "execute_result"
    }
   ],
   "source": [
    "arr4*2-1"
   ]
  },
  {
   "cell_type": "code",
   "execution_count": 15,
   "metadata": {},
   "outputs": [
    {
     "data": {
      "text/plain": [
       "array([ 2.,  4.,  6.,  8., 10.])"
      ]
     },
     "execution_count": 15,
     "metadata": {},
     "output_type": "execute_result"
    }
   ],
   "source": [
    "np.linspace(2,10,5)"
   ]
  },
  {
   "cell_type": "code",
   "execution_count": 16,
   "metadata": {},
   "outputs": [
    {
     "data": {
      "text/plain": [
       "array([1.e-04, 1.e-03, 1.e-02, 1.e-01, 1.e+00, 1.e+01, 1.e+02, 1.e+03,\n",
       "       1.e+04])"
      ]
     },
     "execution_count": 16,
     "metadata": {},
     "output_type": "execute_result"
    }
   ],
   "source": [
    "np.logspace(-4,4,9)"
   ]
  },
  {
   "cell_type": "code",
   "execution_count": 17,
   "metadata": {},
   "outputs": [
    {
     "data": {
      "text/plain": [
       "array([6, 1, 0, 8, 3, 4, 5, 3, 4])"
      ]
     },
     "execution_count": 17,
     "metadata": {},
     "output_type": "execute_result"
    }
   ],
   "source": [
    "a=np.random.randint(0,10,9)\n",
    "a"
   ]
  },
  {
   "cell_type": "code",
   "execution_count": 18,
   "metadata": {},
   "outputs": [
    {
     "data": {
      "text/plain": [
       "array([[6, 1, 0],\n",
       "       [8, 3, 4],\n",
       "       [5, 3, 4]])"
      ]
     },
     "execution_count": 18,
     "metadata": {},
     "output_type": "execute_result"
    }
   ],
   "source": [
    "b=a.reshape(3,-1)\n",
    "b"
   ]
  },
  {
   "cell_type": "code",
   "execution_count": 19,
   "metadata": {},
   "outputs": [
    {
     "data": {
      "text/plain": [
       "((9,), (3, 3))"
      ]
     },
     "execution_count": 19,
     "metadata": {},
     "output_type": "execute_result"
    }
   ],
   "source": [
    "a.shape,b.shape"
   ]
  },
  {
   "cell_type": "code",
   "execution_count": 20,
   "metadata": {},
   "outputs": [
    {
     "data": {
      "text/plain": [
       "array([[6, 1, 0, 8, 3, 4, 5, 3, 4]])"
      ]
     },
     "execution_count": 20,
     "metadata": {},
     "output_type": "execute_result"
    }
   ],
   "source": [
    "c=a.reshape(1,-1)\n",
    "c"
   ]
  },
  {
   "cell_type": "code",
   "execution_count": 21,
   "metadata": {},
   "outputs": [
    {
     "data": {
      "text/plain": [
       "(1, 9)"
      ]
     },
     "execution_count": 21,
     "metadata": {},
     "output_type": "execute_result"
    }
   ],
   "source": [
    "c.shape"
   ]
  },
  {
   "cell_type": "code",
   "execution_count": 22,
   "metadata": {},
   "outputs": [
    {
     "data": {
      "text/plain": [
       "8"
      ]
     },
     "execution_count": 22,
     "metadata": {},
     "output_type": "execute_result"
    }
   ],
   "source": [
    "np.max(c)"
   ]
  },
  {
   "cell_type": "code",
   "execution_count": 23,
   "metadata": {},
   "outputs": [
    {
     "data": {
      "text/plain": [
       "8"
      ]
     },
     "execution_count": 23,
     "metadata": {},
     "output_type": "execute_result"
    }
   ],
   "source": [
    "np.max(a)"
   ]
  },
  {
   "cell_type": "code",
   "execution_count": 24,
   "metadata": {},
   "outputs": [
    {
     "data": {
      "text/plain": [
       "3"
      ]
     },
     "execution_count": 24,
     "metadata": {},
     "output_type": "execute_result"
    }
   ],
   "source": [
    "np.argmax(c)\n",
    "#gives index of max"
   ]
  },
  {
   "cell_type": "code",
   "execution_count": 25,
   "metadata": {},
   "outputs": [
    {
     "data": {
      "text/plain": [
       "3"
      ]
     },
     "execution_count": 25,
     "metadata": {},
     "output_type": "execute_result"
    }
   ],
   "source": [
    "np.argmax(a)"
   ]
  },
  {
   "cell_type": "code",
   "execution_count": 26,
   "metadata": {},
   "outputs": [
    {
     "data": {
      "text/plain": [
       "array([0, 0, 0], dtype=int64)"
      ]
     },
     "execution_count": 26,
     "metadata": {},
     "output_type": "execute_result"
    }
   ],
   "source": [
    "np.argmax(b, axis=1)"
   ]
  },
  {
   "cell_type": "code",
   "execution_count": 27,
   "metadata": {},
   "outputs": [
    {
     "data": {
      "text/plain": [
       "array([[8, 3],\n",
       "       [5, 3]])"
      ]
     },
     "execution_count": 27,
     "metadata": {},
     "output_type": "execute_result"
    }
   ],
   "source": [
    "b[1:3,:2]"
   ]
  },
  {
   "cell_type": "code",
   "execution_count": 28,
   "metadata": {},
   "outputs": [
    {
     "data": {
      "text/plain": [
       "'HW'"
      ]
     },
     "execution_count": 28,
     "metadata": {},
     "output_type": "execute_result"
    }
   ],
   "source": [
    "\"HW\""
   ]
  },
  {
   "cell_type": "code",
   "execution_count": 32,
   "metadata": {},
   "outputs": [
    {
     "data": {
      "text/plain": [
       "array([[1.93032777, 1.0652418 , 1.7621841 , 1.42375045, 1.24701452,\n",
       "        1.91054847],\n",
       "       [1.47491587, 1.00498396, 1.42109899, 1.9813099 , 1.15153904,\n",
       "        1.87038056],\n",
       "       [1.50178021, 1.06495596, 1.71339533, 1.58290727, 1.4909098 ,\n",
       "        1.09182949],\n",
       "       [1.58377353, 1.37129907, 1.46804769, 1.35023357, 1.5325422 ,\n",
       "        1.60281553],\n",
       "       [1.32241405, 1.03549454, 1.46263106, 1.57811768, 1.84391894,\n",
       "        1.46881976],\n",
       "       [1.20202648, 1.28670002, 1.10824459, 1.62658112, 1.74462085,\n",
       "        1.94391941]])"
      ]
     },
     "execution_count": 32,
     "metadata": {},
     "output_type": "execute_result"
    }
   ],
   "source": [
    "r=np.random.random((6,6))\n",
    "s=r+1\n",
    "s"
   ]
  },
  {
   "cell_type": "code",
   "execution_count": 37,
   "metadata": {},
   "outputs": [
    {
     "name": "stdout",
     "output_type": "stream",
     "text": [
      "Mean=1.5565111832158796 and max=1.9303277707514042\n",
      "Mean=1.4840380538614497 and max=1.9813099012321704\n",
      "Mean=1.4076296763690122 and max=1.71339532822302\n",
      "Mean=1.4847852640262278 and max=1.6028155309745298\n",
      "Mean=1.4518993379351794 and max=1.843918942261129\n",
      "Mean=1.4853487455711687 and max=1.9439194077326902\n"
     ]
    }
   ],
   "source": [
    "for i in range(6):\n",
    "    n=np.mean(s[i])\n",
    "    y=np.max(s[i])\n",
    "    print(\"Mean={} and max={}\".format(n,y))"
   ]
  },
  {
   "cell_type": "code",
   "execution_count": 51,
   "metadata": {},
   "outputs": [
    {
     "name": "stdout",
     "output_type": "stream",
     "text": [
      "[1.50253965 1.13811256 1.48926696 1.59048333 1.50175756 1.6480522 ]\n",
      "[1.93032777 1.37129907 1.7621841  1.9813099  1.84391894 1.94391941]\n"
     ]
    }
   ],
   "source": [
    "print(np.mean(s,axis=0))\n",
    "np.max(s,axis=0)"
   ]
  },
  {
   "cell_type": "code",
   "execution_count": 56,
   "metadata": {},
   "outputs": [
    {
     "name": "stdout",
     "output_type": "stream",
     "text": [
      "[1.0652418  1.42375045 1.24701452 1.47491587 1.00498396 1.42109899\n",
      " 1.15153904 1.06495596 1.4909098  1.09182949 1.37129907 1.46804769\n",
      " 1.35023357 1.32241405 1.03549454 1.46263106 1.46881976 1.20202648\n",
      " 1.28670002 1.10824459]\n"
     ]
    },
    {
     "data": {
      "text/plain": [
       "25.51215069537394"
      ]
     },
     "execution_count": 56,
     "metadata": {},
     "output_type": "execute_result"
    }
   ],
   "source": [
    "print((s[s<1.5]))\n",
    "np.sum(s[s<1.5])"
   ]
  },
  {
   "cell_type": "code",
   "execution_count": null,
   "metadata": {},
   "outputs": [],
   "source": []
  }
 ],
 "metadata": {
  "kernelspec": {
   "display_name": "Python 3",
   "language": "python",
   "name": "python3"
  },
  "language_info": {
   "codemirror_mode": {
    "name": "ipython",
    "version": 3
   },
   "file_extension": ".py",
   "mimetype": "text/x-python",
   "name": "python",
   "nbconvert_exporter": "python",
   "pygments_lexer": "ipython3",
   "version": "3.8.3"
  }
 },
 "nbformat": 4,
 "nbformat_minor": 4
}
