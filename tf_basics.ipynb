{
 "cells": [
  {
   "cell_type": "code",
   "execution_count": 99,
   "metadata": {},
   "outputs": [],
   "source": [
    "import numpy as np\n",
    "import tensorflow as tf\n",
    "import pandas as pd\n",
    "from sklearn.preprocessing import OneHotEncoder, LabelEncoder\n",
    "from tensorflow.keras.models import Sequential\n",
    "from tensorflow.keras.layers import Dense, Flatten\n",
    "from tensorflow.keras import regularizers\n",
    "from tensorflow.keras.optimizers import SGD, Adam\n",
    "import matplotlib.pyplot as plt"
   ]
  },
  {
   "cell_type": "code",
   "execution_count": null,
   "metadata": {},
   "outputs": [],
   "source": [
    "# 1111 1111 --> 255"
   ]
  },
  {
   "cell_type": "code",
   "execution_count": 2,
   "metadata": {},
   "outputs": [],
   "source": [
    "np.random.seed(0)\n",
    "tf.random.set_seed(0)"
   ]
  },
  {
   "cell_type": "code",
   "execution_count": 5,
   "metadata": {},
   "outputs": [],
   "source": [
    "a = tf.constant(\"hello \")\n",
    "b = tf.constant([[3,4],[1,2]])\n",
    "c = tf.constant([[1,2],[5,5]])"
   ]
  },
  {
   "cell_type": "code",
   "execution_count": 7,
   "metadata": {},
   "outputs": [
    {
     "name": "stdout",
     "output_type": "stream",
     "text": [
      "tf.Tensor(\n",
      "[[4 6]\n",
      " [6 7]], shape=(2, 2), dtype=int32)\n"
     ]
    }
   ],
   "source": [
    "bc = b + c\n",
    "print(bc)"
   ]
  },
  {
   "cell_type": "code",
   "execution_count": 26,
   "metadata": {},
   "outputs": [
    {
     "data": {
      "text/plain": [
       "array([[10, 11],\n",
       "       [ 8,  9]], dtype=int32)"
      ]
     },
     "execution_count": 26,
     "metadata": {},
     "output_type": "execute_result"
    }
   ],
   "source": [
    "bc.numpy()"
   ]
  },
  {
   "cell_type": "code",
   "execution_count": 12,
   "metadata": {},
   "outputs": [
    {
     "data": {
      "text/plain": [
       "array([[0.79172504, 0.52889492],\n",
       "       [0.56804456, 0.92559664]])"
      ]
     },
     "execution_count": 12,
     "metadata": {},
     "output_type": "execute_result"
    }
   ],
   "source": [
    "d_numpy = np.random.random((2,2))\n",
    "d_numpy"
   ]
  },
  {
   "cell_type": "code",
   "execution_count": 18,
   "metadata": {},
   "outputs": [
    {
     "name": "stdout",
     "output_type": "stream",
     "text": [
      "Help on function random_uniform in module tensorflow.python.ops.random_ops:\n",
      "\n",
      "random_uniform(shape, minval=0, maxval=None, dtype=tf.float32, seed=None, name=None)\n",
      "    Outputs random values from a uniform distribution.\n",
      "    \n",
      "    The generated values follow a uniform distribution in the range\n",
      "    `[minval, maxval)`. The lower bound `minval` is included in the range, while\n",
      "    the upper bound `maxval` is excluded.\n",
      "    \n",
      "    For floats, the default range is `[0, 1)`.  For ints, at least `maxval` must\n",
      "    be specified explicitly.\n",
      "    \n",
      "    In the integer case, the random integers are slightly biased unless\n",
      "    `maxval - minval` is an exact power of two.  The bias is small for values of\n",
      "    `maxval - minval` significantly smaller than the range of the output (either\n",
      "    `2**32` or `2**64`).\n",
      "    \n",
      "    Examples:\n",
      "    \n",
      "    >>> tf.random.uniform(shape=[2])\n",
      "    <tf.Tensor: shape=(2,), dtype=float32, numpy=array([..., ...], dtype=float32)>\n",
      "    >>> tf.random.uniform(shape=[], minval=-1., maxval=0.)\n",
      "    <tf.Tensor: shape=(), dtype=float32, numpy=-...>\n",
      "    >>> tf.random.uniform(shape=[], minval=5, maxval=10, dtype=tf.int64)\n",
      "    <tf.Tensor: shape=(), dtype=int64, numpy=...>\n",
      "    \n",
      "    The `seed` argument produces a deterministic sequence of tensors across\n",
      "    multiple calls. To repeat that sequence, use `tf.random.set_seed`:\n",
      "    \n",
      "    >>> tf.random.set_seed(5)\n",
      "    >>> tf.random.uniform(shape=[], maxval=3, dtype=tf.int32, seed=10)\n",
      "    <tf.Tensor: shape=(), dtype=int32, numpy=2>\n",
      "    >>> tf.random.uniform(shape=[], maxval=3, dtype=tf.int32, seed=10)\n",
      "    <tf.Tensor: shape=(), dtype=int32, numpy=0>\n",
      "    >>> tf.random.set_seed(5)\n",
      "    >>> tf.random.uniform(shape=[], maxval=3, dtype=tf.int32, seed=10)\n",
      "    <tf.Tensor: shape=(), dtype=int32, numpy=2>\n",
      "    >>> tf.random.uniform(shape=[], maxval=3, dtype=tf.int32, seed=10)\n",
      "    <tf.Tensor: shape=(), dtype=int32, numpy=0>\n",
      "    \n",
      "    Without `tf.random.set_seed` but with a `seed` argument is specified, small\n",
      "    changes to function graphs or previously executed operations will change the\n",
      "    returned value. See `tf.random.set_seed` for details.\n",
      "    \n",
      "    Args:\n",
      "      shape: A 1-D integer Tensor or Python array. The shape of the output tensor.\n",
      "      minval: A Tensor or Python value of type `dtype`, broadcastable with\n",
      "        `maxval`. The lower bound on the range of random values to generate\n",
      "        (inclusive).  Defaults to 0.\n",
      "      maxval: A Tensor or Python value of type `dtype`, broadcastable with\n",
      "        `minval`. The upper bound on the range of random values to generate\n",
      "        (exclusive). Defaults to 1 if `dtype` is floating point.\n",
      "      dtype: The type of the output: `float16`, `float32`, `float64`, `int32`,\n",
      "        or `int64`.\n",
      "      seed: A Python integer. Used in combination with `tf.random.set_seed` to\n",
      "        create a reproducible sequence of tensors across multiple calls.\n",
      "      name: A name for the operation (optional).\n",
      "    \n",
      "    Returns:\n",
      "      A tensor of the specified shape filled with random uniform values.\n",
      "    \n",
      "    Raises:\n",
      "      ValueError: If `dtype` is integral and `maxval` is not specified.\n",
      "\n"
     ]
    }
   ],
   "source": [
    "help(tf.random.uniform)"
   ]
  },
  {
   "cell_type": "code",
   "execution_count": 25,
   "metadata": {},
   "outputs": [
    {
     "data": {
      "text/plain": [
       "<tf.Tensor: shape=(2, 2), dtype=int32, numpy=\n",
       "array([[ 1, -1],\n",
       "       [ 0, -1]], dtype=int32)>"
      ]
     },
     "execution_count": 25,
     "metadata": {},
     "output_type": "execute_result"
    }
   ],
   "source": [
    "d_tf = tf.random.uniform((2,2), minval=-1, maxval=2, dtype=tf.int32)\n",
    "d_tf"
   ]
  },
  {
   "cell_type": "code",
   "execution_count": 30,
   "metadata": {},
   "outputs": [
    {
     "data": {
      "text/plain": [
       "(1, 0)"
      ]
     },
     "execution_count": 30,
     "metadata": {},
     "output_type": "execute_result"
    }
   ],
   "source": [
    "round(0.52), int(0.52)"
   ]
  },
  {
   "cell_type": "code",
   "execution_count": 27,
   "metadata": {},
   "outputs": [
    {
     "name": "stdout",
     "output_type": "stream",
     "text": [
      "tf.Tensor(\n",
      "[[0.09492064 0.78148305]\n",
      " [0.82439435 0.5376601 ]], shape=(2, 2), dtype=float32)\n"
     ]
    },
    {
     "data": {
      "text/plain": [
       "<tf.Tensor: shape=(2, 2), dtype=int32, numpy=\n",
       "array([[0, 0],\n",
       "       [0, 0]], dtype=int32)>"
      ]
     },
     "execution_count": 27,
     "metadata": {},
     "output_type": "execute_result"
    }
   ],
   "source": [
    "d = tf.random.uniform((2,2), dtype=tf.float32)\n",
    "print(d)\n",
    "d = tf.cast(d, dtype=tf.int32)\n",
    "d"
   ]
  },
  {
   "cell_type": "code",
   "execution_count": 32,
   "metadata": {},
   "outputs": [
    {
     "data": {
      "text/plain": [
       "<tf.Tensor: shape=(2, 4), dtype=int32, numpy=\n",
       "array([[3, 4, 0, 0],\n",
       "       [1, 2, 0, 0]], dtype=int32)>"
      ]
     },
     "execution_count": 32,
     "metadata": {},
     "output_type": "execute_result"
    }
   ],
   "source": [
    "bd = tf.concat((b, d), axis=1)\n",
    "bd"
   ]
  },
  {
   "cell_type": "code",
   "execution_count": 33,
   "metadata": {},
   "outputs": [
    {
     "data": {
      "text/plain": [
       "<tf.Tensor: shape=(4, 2), dtype=int32, numpy=\n",
       "array([[3, 1],\n",
       "       [4, 2],\n",
       "       [0, 0],\n",
       "       [0, 0]], dtype=int32)>"
      ]
     },
     "execution_count": 33,
     "metadata": {},
     "output_type": "execute_result"
    }
   ],
   "source": [
    "tf.transpose(bd)"
   ]
  },
  {
   "cell_type": "code",
   "execution_count": 37,
   "metadata": {},
   "outputs": [],
   "source": [
    "df_test = pd.read_csv('./data/test.csv')\n",
    "df_train = pd.read_csv('./data/train.csv')\n",
    "df_submission = pd.read_csv('./data/gender_submission.csv')"
   ]
  },
  {
   "cell_type": "code",
   "execution_count": 41,
   "metadata": {},
   "outputs": [],
   "source": [
    "def transform(df,option):\n",
    "    assert option in [\"test\",\"train\"] , \"Option must be test or train\"\n",
    "    df = df.set_index('PassengerId')\n",
    "    cond = df.Fare.isnull()\n",
    "    sub_value = df.Fare.mean()\n",
    "    df.Fare = np.where(cond, sub_value, df.Fare)\n",
    "    ticket_p = df.groupby('Ticket', as_index=False).agg({'Name': 'count'}).rename(columns={'Name':'t_count'}).sort_values('t_count', ascending=False)\n",
    "    d = dict()\n",
    "    for i, row in ticket_p.iterrows():\n",
    "        d[row.Ticket] = row.t_count\n",
    "    df_merge = df.copy()\n",
    "    df_merge['t_count'] = df_merge.Ticket.apply(lambda x: d[x])\n",
    "    df_merge['Fare_per_person'] = df_merge.Fare/df_merge.t_count\n",
    "    cond = df_merge.Age.isnull()\n",
    "    sub_value = df_merge.Age.mean()\n",
    "    df_merge.Age = np.where(cond, sub_value, df_merge.Age)\n",
    "    cond = (df_merge.Sex == 'female')\n",
    "    sub_value = 1\n",
    "    df_merge.Sex = np.where(cond, sub_value, 0)\n",
    "    cond = df_merge.Embarked.isnull()\n",
    "    sub_value = 'S'\n",
    "    df_merge.Embarked = np.where(cond, 'S', df_merge.Embarked)\n",
    "    df_merge = df_merge.drop(['Name', 'Ticket', 'Cabin'], axis=1)\n",
    "    df_merge.isnull().sum()\n",
    "    ohe = OneHotEncoder()\n",
    "    X_cat = ohe.fit_transform(df_merge.Embarked.values.reshape(-1,1)).toarray()\n",
    "    if option==\"train\":\n",
    "        X_short = df_merge.drop(['Survived','Embarked'], axis=1).values\n",
    "    else:\n",
    "        X_short = df_merge.drop(['Embarked'], axis=1).values\n",
    "    X = np.hstack([X_cat, X_short])\n",
    "    return X"
   ]
  },
  {
   "cell_type": "code",
   "execution_count": 42,
   "metadata": {},
   "outputs": [],
   "source": [
    "X_train_val = transform(df_train, \"train\")\n",
    "X_test = transform(df_test,\"test\")\n",
    "y_train_val = df_train.Survived"
   ]
  },
  {
   "cell_type": "code",
   "execution_count": 46,
   "metadata": {},
   "outputs": [
    {
     "data": {
      "text/plain": [
       "((891, 11), (891,))"
      ]
     },
     "execution_count": 46,
     "metadata": {},
     "output_type": "execute_result"
    }
   ],
   "source": [
    "X_train_val.shape, y_train_val.shape"
   ]
  },
  {
   "cell_type": "code",
   "execution_count": 85,
   "metadata": {},
   "outputs": [
    {
     "name": "stdout",
     "output_type": "stream",
     "text": [
      "Model: \"sequential_18\"\n",
      "_________________________________________________________________\n",
      "Layer (type)                 Output Shape              Param #   \n",
      "=================================================================\n",
      "dense_37 (Dense)             (None, 6)                 72        \n",
      "_________________________________________________________________\n",
      "dense_38 (Dense)             (None, 5)                 35        \n",
      "_________________________________________________________________\n",
      "dense_39 (Dense)             (None, 1)                 6         \n",
      "=================================================================\n",
      "Total params: 113\n",
      "Trainable params: 113\n",
      "Non-trainable params: 0\n",
      "_________________________________________________________________\n"
     ]
    }
   ],
   "source": [
    "model = Sequential() # empty placeholder\n",
    "model.add(Dense(6, input_dim=X_train_val.shape[1], activation='relu', kernel_regularizer=regularizers.l2(0.0)))\n",
    "model.add(Dense(5, activation='relu', kernel_regularizer=regularizers.l2(0.0)))\n",
    "model.add(Dense(1, activation='sigmoid', kernel_regularizer=regularizers.l2(0.0)))\n",
    "optimizer = Adam()\n",
    "model.compile(optimizer=optimizer, loss='binary_crossentropy', metrics=['accuracy'])\n",
    "model.summary()"
   ]
  },
  {
   "cell_type": "code",
   "execution_count": 86,
   "metadata": {},
   "outputs": [
    {
     "name": "stdout",
     "output_type": "stream",
     "text": [
      "Train on 891 samples\n",
      "Epoch 1/20\n",
      "891/891 [==============================] - 0s 501us/sample - loss: 2.5334 - accuracy: 0.3165\n",
      "Epoch 2/20\n",
      "891/891 [==============================] - 0s 53us/sample - loss: 1.8943 - accuracy: 0.3266\n",
      "Epoch 3/20\n",
      "891/891 [==============================] - 0s 67us/sample - loss: 1.4880 - accuracy: 0.3378\n",
      "Epoch 4/20\n",
      "891/891 [==============================] - 0s 60us/sample - loss: 1.2324 - accuracy: 0.3367\n",
      "Epoch 5/20\n",
      "891/891 [==============================] - 0s 56us/sample - loss: 1.0661 - accuracy: 0.3367\n",
      "Epoch 6/20\n",
      "891/891 [==============================] - 0s 56us/sample - loss: 0.9519 - accuracy: 0.3389\n",
      "Epoch 7/20\n",
      "891/891 [==============================] - 0s 60us/sample - loss: 0.8724 - accuracy: 0.3502\n",
      "Epoch 8/20\n",
      "891/891 [==============================] - 0s 57us/sample - loss: 0.8237 - accuracy: 0.3636\n",
      "Epoch 9/20\n",
      "891/891 [==============================] - 0s 53us/sample - loss: 0.7885 - accuracy: 0.3771\n",
      "Epoch 10/20\n",
      "891/891 [==============================] - 0s 56us/sample - loss: 0.7605 - accuracy: 0.3973\n",
      "Epoch 11/20\n",
      "891/891 [==============================] - ETA: 0s - loss: 0.7210 - accuracy: 0.37 - 0s 58us/sample - loss: 0.7380 - accuracy: 0.4276\n",
      "Epoch 12/20\n",
      "891/891 [==============================] - 0s 69us/sample - loss: 0.7203 - accuracy: 0.4725\n",
      "Epoch 13/20\n",
      "891/891 [==============================] - 0s 65us/sample - loss: 0.7055 - accuracy: 0.5309\n",
      "Epoch 14/20\n",
      "891/891 [==============================] - 0s 58us/sample - loss: 0.6923 - accuracy: 0.5679\n",
      "Epoch 15/20\n",
      "891/891 [==============================] - 0s 53us/sample - loss: 0.6805 - accuracy: 0.5937\n",
      "Epoch 16/20\n",
      "891/891 [==============================] - 0s 56us/sample - loss: 0.6724 - accuracy: 0.6308\n",
      "Epoch 17/20\n",
      "891/891 [==============================] - 0s 56us/sample - loss: 0.6650 - accuracy: 0.6420\n",
      "Epoch 18/20\n",
      "891/891 [==============================] - 0s 55us/sample - loss: 0.6593 - accuracy: 0.6611\n",
      "Epoch 19/20\n",
      "891/891 [==============================] - 0s 53us/sample - loss: 0.6538 - accuracy: 0.6734\n",
      "Epoch 20/20\n",
      "891/891 [==============================] - 0s 60us/sample - loss: 0.6489 - accuracy: 0.6824\n"
     ]
    },
    {
     "data": {
      "text/plain": [
       "<tensorflow.python.keras.callbacks.History at 0x7ffb61ab8190>"
      ]
     },
     "execution_count": 86,
     "metadata": {},
     "output_type": "execute_result"
    }
   ],
   "source": [
    "model.fit(X_train_val, y_train_val, epochs=20)"
   ]
  },
  {
   "cell_type": "code",
   "execution_count": 96,
   "metadata": {},
   "outputs": [],
   "source": [
    "(X_train, y_train), (X_test, y_test) = tf.keras.datasets.mnist.load_data()"
   ]
  },
  {
   "cell_type": "code",
   "execution_count": 97,
   "metadata": {},
   "outputs": [
    {
     "data": {
      "text/plain": [
       "(60000, 28, 28)"
      ]
     },
     "execution_count": 97,
     "metadata": {},
     "output_type": "execute_result"
    }
   ],
   "source": [
    "X_train.shape"
   ]
  },
  {
   "cell_type": "code",
   "execution_count": 104,
   "metadata": {},
   "outputs": [],
   "source": [
    "y_train_idx = (y_train == 0) | (y_train == 1)"
   ]
  },
  {
   "cell_type": "code",
   "execution_count": 106,
   "metadata": {},
   "outputs": [],
   "source": [
    "X_train_bin = X_train[y_train_idx]\n",
    "y_train_bin = y_train[y_train_idx]"
   ]
  },
  {
   "cell_type": "code",
   "execution_count": 109,
   "metadata": {},
   "outputs": [
    {
     "data": {
      "text/plain": [
       "<matplotlib.image.AxesImage at 0x7ffb6a9c7c10>"
      ]
     },
     "execution_count": 109,
     "metadata": {},
     "output_type": "execute_result"
    },
    {
     "data": {
      "image/png": "[encoded data removed]",
      "text/plain": [
       "<Figure size 432x288 with 1 Axes>"
      ]
     },
     "metadata": {
      "needs_background": "light"
     },
     "output_type": "display_data"
    }
   ],
   "source": [
    "#HW:\n",
    "\n",
    "# To build a neural network and train it with our reduced dataset X_train_bin/y_train_bin\n",
    "# hint:\n",
    "# Flatten layer\n",
    "# tf.keras.layers.Flatten(input_shape=(28, 28)) in front of your first hidden layer to convert the 28x28 images into a 1d vector"
   ]
  },
  {
   "cell_type": "code",
   "execution_count": 112,
   "metadata": {},
   "outputs": [
    {
     "data": {
      "text/plain": [
       "(28, 28)"
      ]
     },
     "execution_count": 112,
     "metadata": {},
     "output_type": "execute_result"
    }
   ],
   "source": [
    "X_train_bin[0].shape"
   ]
  },
  {
   "cell_type": "code",
   "execution_count": null,
   "metadata": {},
   "outputs": [],
   "source": []
  }
 ],
 "metadata": {
  "kernelspec": {
   "display_name": "Python 3",
   "language": "python",
   "name": "python3"
  },
  "language_info": {
   "codemirror_mode": {
    "name": "ipython",
    "version": 3
   },
   "file_extension": ".py",
   "mimetype": "text/x-python",
   "name": "python",
   "nbconvert_exporter": "python",
   "pygments_lexer": "ipython3",
   "version": "3.7.4"
  }
 },
 "nbformat": 4,
 "nbformat_minor": 2
}
