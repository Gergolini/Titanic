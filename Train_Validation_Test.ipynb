{
 "cells": [
  {
   "cell_type": "code",
   "execution_count": 1,
   "metadata": {},
   "outputs": [],
   "source": [
    "import pandas as pd\n",
    "import numpy as np\n",
    "import os\n",
    "import matplotlib.pyplot as plt\n",
    "from sklearn.preprocessing import OneHotEncoder, LabelEncoder\n",
    "%matplotlib inline\n",
    "from sklearn.linear_model import LinearRegression, LogisticRegression\n",
    "from sklearn.model_selection import train_test_split\n",
    "from sklearn.metrics import accuracy_score"
   ]
  },
  {
   "cell_type": "code",
   "execution_count": 2,
   "metadata": {},
   "outputs": [
    {
     "data": {
      "text/plain": [
       "['test.csv', 'train.csv', 'gender_submission.csv']"
      ]
     },
     "execution_count": 2,
     "metadata": {},
     "output_type": "execute_result"
    }
   ],
   "source": [
    "os.listdir('./data')"
   ]
  },
  {
   "cell_type": "code",
   "execution_count": 3,
   "metadata": {},
   "outputs": [],
   "source": [
    "df_test = pd.read_csv('./data/test.csv')\n",
    "df_train = pd.read_csv('./data/train.csv')\n",
    "df_submission = pd.read_csv('./data/gender_submission.csv')"
   ]
  },
  {
   "cell_type": "code",
   "execution_count": 4,
   "metadata": {},
   "outputs": [],
   "source": [
    "y_train_val = df_train.Survived"
   ]
  },
  {
   "cell_type": "code",
   "execution_count": 5,
   "metadata": {},
   "outputs": [],
   "source": [
    "def transform(df,option):\n",
    "    assert option in [\"test\",\"train\"] , \"Option must be test or train\"\n",
    "    df = df.set_index('PassengerId')\n",
    "    cond = df.Fare.isnull()\n",
    "    sub_value = df.Fare.mean()\n",
    "    df.Fare = np.where(cond, sub_value, df.Fare)\n",
    "    ticket_p = df.groupby('Ticket', as_index=False).agg({'Name': 'count'}).rename(columns={'Name':'t_count'}).sort_values('t_count', ascending=False)\n",
    "    d = dict()\n",
    "    for i, row in ticket_p.iterrows():\n",
    "        d[row.Ticket] = row.t_count\n",
    "    df_merge = df.copy()\n",
    "    df_merge['t_count'] = df_merge.Ticket.apply(lambda x: d[x])\n",
    "    df_merge['Fare_per_person'] = df_merge.Fare/df_merge.t_count\n",
    "    cond = df_merge.Age.isnull()\n",
    "    sub_value = df_merge.Age.mean()\n",
    "    df_merge.Age = np.where(cond, sub_value, df_merge.Age)\n",
    "    cond = (df_merge.Sex == 'female')\n",
    "    sub_value = 1\n",
    "    df_merge.Sex = np.where(cond, sub_value, 0)\n",
    "    cond = df_merge.Embarked.isnull()\n",
    "    sub_value = 'S'\n",
    "    df_merge.Embarked = np.where(cond, 'S', df_merge.Embarked)\n",
    "    df_merge = df_merge.drop(['Name', 'Ticket', 'Cabin'], axis=1)\n",
    "    df_merge.isnull().sum()\n",
    "    ohe = OneHotEncoder()\n",
    "    X_cat = ohe.fit_transform(df_merge.Embarked.values.reshape(-1,1)).toarray()\n",
    "    if option==\"train\":\n",
    "        X_short = df_merge.drop(['Survived','Embarked'], axis=1).values\n",
    "    else:\n",
    "        X_short = df_merge.drop(['Embarked'], axis=1).values\n",
    "    X = np.hstack([X_cat, X_short])\n",
    "    return X"
   ]
  },
  {
   "cell_type": "code",
   "execution_count": 6,
   "metadata": {},
   "outputs": [],
   "source": [
    "X_train_val=transform(df_train, \"train\")"
   ]
  },
  {
   "cell_type": "code",
   "execution_count": 7,
   "metadata": {},
   "outputs": [],
   "source": [
    "X_test=transform(df_test,\"test\")"
   ]
  },
  {
   "cell_type": "code",
   "execution_count": 8,
   "metadata": {},
   "outputs": [],
   "source": [
    "X_train, X_val, y_train, y_val = train_test_split(X_train_val, y_train_val, test_size=0.2, random_state=42)"
   ]
  },
  {
   "cell_type": "code",
   "execution_count": 9,
   "metadata": {},
   "outputs": [
    {
     "data": {
      "text/plain": [
       "((712, 11), (179, 11))"
      ]
     },
     "execution_count": 9,
     "metadata": {},
     "output_type": "execute_result"
    }
   ],
   "source": [
    "X_train.shape, X_val.shape"
   ]
  },
  {
   "cell_type": "code",
   "execution_count": 10,
   "metadata": {},
   "outputs": [
    {
     "data": {
      "text/plain": [
       "0.8156424581005587"
      ]
     },
     "execution_count": 10,
     "metadata": {},
     "output_type": "execute_result"
    }
   ],
   "source": [
    "lr=LogisticRegression(max_iter=500)\n",
    "lr.fit(X_train, y_train)\n",
    "y_pred_val=lr.predict(X_val)\n",
    "acc_val=accuracy_score(y_val,y_pred_val)\n",
    "acc_val"
   ]
  },
  {
   "cell_type": "code",
   "execution_count": 11,
   "metadata": {},
   "outputs": [
    {
     "data": {
      "text/plain": [
       "array([1.00000000e-04, 4.21696503e-03, 1.77827941e-01, 7.49894209e+00,\n",
       "       3.16227766e+02, 1.33352143e+04, 5.62341325e+05, 2.37137371e+07,\n",
       "       1.00000000e+09])"
      ]
     },
     "execution_count": 11,
     "metadata": {},
     "output_type": "execute_result"
    }
   ],
   "source": [
    "C_grid=np.logspace(-4,9,9)\n",
    "C_grid"
   ]
  },
  {
   "cell_type": "code",
   "execution_count": 17,
   "metadata": {},
   "outputs": [
    {
     "data": {
      "text/plain": [
       "<matplotlib.legend.Legend at 0x127539860>"
      ]
     },
     "execution_count": 17,
     "metadata": {},
     "output_type": "execute_result"
    },
    {
     "data": {
      "image/png": "[encoded data removed]",
      "text/plain": [
       "<Figure size 432x288 with 1 Axes>"
      ]
     },
     "metadata": {
      "needs_background": "light"
     },
     "output_type": "display_data"
    }
   ],
   "source": [
    "acc_vals=[]\n",
    "acc_trains=[]\n",
    "for c in C_grid:\n",
    "    lr1=LogisticRegression(C=c,max_iter=500)\n",
    "    lr1.fit(X_train, y_train)\n",
    "    y_pred_val=lr1.predict(X_val)\n",
    "    y_pred_train=lr1.predict(X_train)\n",
    "    acc_train=accuracy_score(y_train,y_pred_train)\n",
    "    acc_val=accuracy_score(y_val,y_pred_val)\n",
    "    acc_vals.append(acc_val)\n",
    "    acc_trains.append(acc_train)\n",
    "\n",
    "plt.plot(C_grid,acc_vals,'-o', label='validation')\n",
    "plt.xscale('log')\n",
    "plt.plot(C_grid,acc_trains,'-o', label='training')\n",
    "plt.legend()\n",
    "\n"
   ]
  },
  {
   "cell_type": "code",
   "execution_count": null,
   "metadata": {},
   "outputs": [],
   "source": []
  },
  {
   "cell_type": "code",
   "execution_count": null,
   "metadata": {},
   "outputs": [],
   "source": []
  }
 ],
 "metadata": {
  "kernelspec": {
   "display_name": "Python 3",
   "language": "python",
   "name": "python3"
  },
  "language_info": {
   "codemirror_mode": {
    "name": "ipython",
    "version": 3
   },
   "file_extension": ".py",
   "mimetype": "text/x-python",
   "name": "python",
   "nbconvert_exporter": "python",
   "pygments_lexer": "ipython3",
   "version": "3.7.3"
  }
 },
 "nbformat": 4,
 "nbformat_minor": 4
}
