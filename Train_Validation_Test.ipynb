{
 "cells": [
  {
   "cell_type": "code",
   "execution_count": 1,
   "metadata": {},
   "outputs": [],
   "source": [
    "import pandas as pd\n",
    "import sklearn\n",
    "import numpy as np\n",
    "import os\n",
    "import matplotlib.pyplot as plt\n",
    "from sklearn.preprocessing import OneHotEncoder, LabelEncoder\n",
    "%matplotlib inline\n",
    "from sklearn.linear_model import LinearRegression, LogisticRegression\n",
    "from sklearn.model_selection import train_test_split, cross_val_score\n",
    "from sklearn.metrics import accuracy_score\n",
    "from sklearn.tree import DecisionTreeClassifier"
   ]
  },
  {
   "cell_type": "code",
   "execution_count": 2,
   "metadata": {},
   "outputs": [
    {
     "data": {
      "text/plain": [
       "['gender_submission.csv', 'test.csv', 'train.csv']"
      ]
     },
     "execution_count": 2,
     "metadata": {},
     "output_type": "execute_result"
    }
   ],
   "source": [
    "os.listdir('./data')"
   ]
  },
  {
   "cell_type": "code",
   "execution_count": 3,
   "metadata": {},
   "outputs": [],
   "source": [
    "df_test = pd.read_csv('./data/test.csv')\n",
    "df_train = pd.read_csv('./data/train.csv')\n",
    "df_submission = pd.read_csv('./data/gender_submission.csv')"
   ]
  },
  {
   "cell_type": "code",
   "execution_count": 4,
   "metadata": {},
   "outputs": [],
   "source": [
    "y_train_val = df_train.Survived"
   ]
  },
  {
   "cell_type": "code",
   "execution_count": 5,
   "metadata": {},
   "outputs": [],
   "source": [
    "def transform(df,option):\n",
    "    assert option in [\"test\",\"train\"] , \"Option must be test or train\"\n",
    "    df = df.set_index('PassengerId')\n",
    "    cond = df.Fare.isnull()\n",
    "    sub_value = df.Fare.mean()\n",
    "    df.Fare = np.where(cond, sub_value, df.Fare)\n",
    "    ticket_p = df.groupby('Ticket', as_index=False).agg({'Name': 'count'}).rename(columns={'Name':'t_count'}).sort_values('t_count', ascending=False)\n",
    "    d = dict()\n",
    "    for i, row in ticket_p.iterrows():\n",
    "        d[row.Ticket] = row.t_count\n",
    "    df_merge = df.copy()\n",
    "    df_merge['t_count'] = df_merge.Ticket.apply(lambda x: d[x])\n",
    "    df_merge['Fare_per_person'] = df_merge.Fare/df_merge.t_count\n",
    "    cond = df_merge.Age.isnull()\n",
    "    sub_value = df_merge.Age.mean()\n",
    "    df_merge.Age = np.where(cond, sub_value, df_merge.Age)\n",
    "    cond = (df_merge.Sex == 'female')\n",
    "    sub_value = 1\n",
    "    df_merge.Sex = np.where(cond, sub_value, 0)\n",
    "    cond = df_merge.Embarked.isnull()\n",
    "    sub_value = 'S'\n",
    "    df_merge.Embarked = np.where(cond, 'S', df_merge.Embarked)\n",
    "    df_merge = df_merge.drop(['Name', 'Ticket', 'Cabin'], axis=1)\n",
    "    df_merge.isnull().sum()\n",
    "    ohe = OneHotEncoder()\n",
    "    X_cat = ohe.fit_transform(df_merge.Embarked.values.reshape(-1,1)).toarray()\n",
    "    if option==\"train\":\n",
    "        X_short = df_merge.drop(['Survived','Embarked'], axis=1).values\n",
    "    else:\n",
    "        X_short = df_merge.drop(['Embarked'], axis=1).values\n",
    "    X = np.hstack([X_cat, X_short])\n",
    "    return X"
   ]
  },
  {
   "cell_type": "code",
   "execution_count": 6,
   "metadata": {},
   "outputs": [],
   "source": [
    "X_train_val=transform(df_train, \"train\")"
   ]
  },
  {
   "cell_type": "code",
   "execution_count": 7,
   "metadata": {},
   "outputs": [],
   "source": [
    "X_test=transform(df_test,\"test\")"
   ]
  },
  {
   "cell_type": "code",
   "execution_count": 8,
   "metadata": {},
   "outputs": [],
   "source": [
    "X_train, X_val, y_train, y_val = train_test_split(X_train_val, y_train_val, test_size=0.2, random_state=42)"
   ]
  },
  {
   "cell_type": "code",
   "execution_count": 9,
   "metadata": {},
   "outputs": [
    {
     "data": {
      "text/plain": [
       "((712, 11), (179, 11))"
      ]
     },
     "execution_count": 9,
     "metadata": {},
     "output_type": "execute_result"
    }
   ],
   "source": [
    "X_train.shape, X_val.shape"
   ]
  },
  {
   "cell_type": "code",
   "execution_count": 10,
   "metadata": {},
   "outputs": [
    {
     "data": {
      "text/plain": [
       "0.8156424581005587"
      ]
     },
     "execution_count": 10,
     "metadata": {},
     "output_type": "execute_result"
    }
   ],
   "source": [
    "lr=LogisticRegression(max_iter=500)\n",
    "lr.fit(X_train, y_train)\n",
    "y_pred_val=lr.predict(X_val)\n",
    "acc_val=accuracy_score(y_val,y_pred_val)\n",
    "acc_val"
   ]
  },
  {
   "cell_type": "code",
   "execution_count": 11,
   "metadata": {},
   "outputs": [
    {
     "data": {
      "text/plain": [
       "array([1.00000000e-04, 4.21696503e-03, 1.77827941e-01, 7.49894209e+00,\n",
       "       3.16227766e+02, 1.33352143e+04, 5.62341325e+05, 2.37137371e+07,\n",
       "       1.00000000e+09])"
      ]
     },
     "execution_count": 11,
     "metadata": {},
     "output_type": "execute_result"
    }
   ],
   "source": [
    "C_grid=np.logspace(-4,9,9)\n",
    "C_grid"
   ]
  },
  {
   "cell_type": "code",
   "execution_count": 12,
   "metadata": {},
   "outputs": [
    {
     "data": {
      "text/plain": [
       "<matplotlib.legend.Legend at 0x1f9e3bd20a0>"
      ]
     },
     "execution_count": 12,
     "metadata": {},
     "output_type": "execute_result"
    },
    {
     "data": {
      "image/png": "[encoded data removed]",
      "text/plain": [
       "<Figure size 432x288 with 1 Axes>"
      ]
     },
     "metadata": {
      "needs_background": "light"
     },
     "output_type": "display_data"
    }
   ],
   "source": [
    "acc_vals=[]\n",
    "acc_trains=[]\n",
    "for c in C_grid:\n",
    "    lr1=LogisticRegression(C=c,max_iter=500)\n",
    "    lr1.fit(X_train, y_train)\n",
    "    y_pred_val=lr1.predict(X_val)\n",
    "    y_pred_train=lr1.predict(X_train)\n",
    "    acc_train=accuracy_score(y_train,y_pred_train)\n",
    "    acc_val=accuracy_score(y_val,y_pred_val)\n",
    "    acc_vals.append(acc_val)\n",
    "    acc_trains.append(acc_train)\n",
    "\n",
    "plt.plot(C_grid,acc_vals,'-o', label='validation')\n",
    "plt.xscale('log')\n",
    "plt.plot(C_grid,acc_trains,'-o', label='training')\n",
    "plt.legend()\n",
    "\n"
   ]
  },
  {
   "cell_type": "code",
   "execution_count": 13,
   "metadata": {},
   "outputs": [
    {
     "data": {
      "text/plain": [
       "[0.6815642458100558,\n",
       " 0.7262569832402235,\n",
       " 0.8100558659217877,\n",
       " 0.8156424581005587,\n",
       " 0.8156424581005587,\n",
       " 0.8156424581005587,\n",
       " 0.8156424581005587,\n",
       " 0.8156424581005587,\n",
       " 0.8156424581005587]"
      ]
     },
     "execution_count": 13,
     "metadata": {},
     "output_type": "execute_result"
    }
   ],
   "source": [
    "acc_vals"
   ]
  },
  {
   "cell_type": "code",
   "execution_count": 14,
   "metadata": {},
   "outputs": [],
   "source": [
    "a=np.argmax(acc_vals)\n",
    "C_best=C_grid[a]"
   ]
  },
  {
   "cell_type": "code",
   "execution_count": 15,
   "metadata": {},
   "outputs": [
    {
     "data": {
      "text/plain": [
       "(418,)"
      ]
     },
     "execution_count": 15,
     "metadata": {},
     "output_type": "execute_result"
    }
   ],
   "source": [
    "lr1=LogisticRegression(C=C_best,max_iter=500)\n",
    "lr1.fit(X_train, y_train)\n",
    "y_pred_test=lr1.predict(X_test)\n",
    "y_pred_test.shape"
   ]
  },
  {
   "cell_type": "code",
   "execution_count": 16,
   "metadata": {},
   "outputs": [],
   "source": [
    "df_submission['Survived']=y_pred_test"
   ]
  },
  {
   "cell_type": "code",
   "execution_count": 17,
   "metadata": {},
   "outputs": [],
   "source": [
    "df_submission.to_csv('submission.csv', index=False)"
   ]
  },
  {
   "cell_type": "code",
   "execution_count": 18,
   "metadata": {},
   "outputs": [
    {
     "data": {
      "text/plain": [
       "'Each sample has to be used for validation once and train model for each fold and check accuracy'"
      ]
     },
     "execution_count": 18,
     "metadata": {},
     "output_type": "execute_result"
    }
   ],
   "source": [
    "\"HW:Write a code that will manually split the X_train_val and y_train_val into five folds\"\n",
    "\"Fold: in each fold 80% training and 20% validation\"\n",
    "\"Each sample has to be used for validation once and train model for each fold and check accuracy\""
   ]
  },
  {
   "cell_type": "code",
   "execution_count": 19,
   "metadata": {},
   "outputs": [],
   "source": [
    "def split_manual(X,y,num_folds):\n",
    "    n_perfold=int(len(X)/num_folds)\n",
    "    acc_vals=[]\n",
    "    for i in range(num_folds):\n",
    "        X_val_fold=X[n_perfold*i:n_perfold+n_perfold*i]\n",
    "        y_val_fold=y[n_perfold*i:n_perfold+n_perfold*i]\n",
    "        X_train_fold=np.concatenate((X[0:n_perfold*i],X[n_perfold+n_perfold*i:]),axis=0)\n",
    "        y_train_fold=np.concatenate((y[0:n_perfold*i],y[n_perfold+n_perfold*i:]),axis=0)\n",
    "        print(\"{} {} {} {}\".format(X_val_fold.shape, y_val_fold.shape,X_train_fold.shape,  y_train_fold.shape ))\n",
    "        lr1=LogisticRegression(C=C_best,max_iter=500)\n",
    "        lr1.fit(X_train_fold, y_train_fold)\n",
    "        y_pred_val=lr1.predict(X_val_fold)\n",
    "        acc_val=accuracy_score(y_val_fold,y_pred_val)\n",
    "        acc_vals.append(acc_val)\n",
    "    return (acc_vals)"
   ]
  },
  {
   "cell_type": "code",
   "execution_count": 20,
   "metadata": {},
   "outputs": [
    {
     "data": {
      "text/plain": [
       "(712, 11)"
      ]
     },
     "execution_count": 20,
     "metadata": {},
     "output_type": "execute_result"
    }
   ],
   "source": [
    "X_train.shape"
   ]
  },
  {
   "cell_type": "code",
   "execution_count": 21,
   "metadata": {},
   "outputs": [
    {
     "name": "stdout",
     "output_type": "stream",
     "text": [
      "(142, 11) (142,) (570, 11) (570,)\n",
      "(142, 11) (142,) (570, 11) (570,)\n",
      "(142, 11) (142,) (570, 11) (570,)\n"
     ]
    },
    {
     "name": "stderr",
     "output_type": "stream",
     "text": [
      "C:\\Users\\gergo\\anaconda3\\lib\\site-packages\\sklearn\\linear_model\\_logistic.py:762: ConvergenceWarning: lbfgs failed to converge (status=1):\n",
      "STOP: TOTAL NO. of ITERATIONS REACHED LIMIT.\n",
      "\n",
      "Increase the number of iterations (max_iter) or scale the data as shown in:\n",
      "    https://scikit-learn.org/stable/modules/preprocessing.html\n",
      "Please also refer to the documentation for alternative solver options:\n",
      "    https://scikit-learn.org/stable/modules/linear_model.html#logistic-regression\n",
      "  n_iter_i = _check_optimize_result(\n"
     ]
    },
    {
     "name": "stdout",
     "output_type": "stream",
     "text": [
      "(142, 11) (142,) (570, 11) (570,)\n",
      "(142, 11) (142,) (570, 11) (570,)\n"
     ]
    },
    {
     "data": {
      "text/plain": [
       "[0.8169014084507042,\n",
       " 0.8098591549295775,\n",
       " 0.8098591549295775,\n",
       " 0.7535211267605634,\n",
       " 0.8169014084507042]"
      ]
     },
     "execution_count": 21,
     "metadata": {},
     "output_type": "execute_result"
    }
   ],
   "source": [
    "split_manual(X_train,y_train,5)"
   ]
  },
  {
   "cell_type": "code",
   "execution_count": 22,
   "metadata": {},
   "outputs": [
    {
     "data": {
      "text/plain": [
       "'HW: Read about how sklearn does cross validation and how the function works and implement it to get the list with one line of code'"
      ]
     },
     "execution_count": 22,
     "metadata": {},
     "output_type": "execute_result"
    }
   ],
   "source": [
    "\"HW: Read about how sklearn does cross validation and how the function works and implement it to get the list with one line of code\""
   ]
  },
  {
   "cell_type": "code",
   "execution_count": 23,
   "metadata": {},
   "outputs": [
    {
     "name": "stderr",
     "output_type": "stream",
     "text": [
      "C:\\Users\\gergo\\anaconda3\\lib\\site-packages\\sklearn\\linear_model\\_logistic.py:762: ConvergenceWarning: lbfgs failed to converge (status=1):\n",
      "STOP: TOTAL NO. of ITERATIONS REACHED LIMIT.\n",
      "\n",
      "Increase the number of iterations (max_iter) or scale the data as shown in:\n",
      "    https://scikit-learn.org/stable/modules/preprocessing.html\n",
      "Please also refer to the documentation for alternative solver options:\n",
      "    https://scikit-learn.org/stable/modules/linear_model.html#logistic-regression\n",
      "  n_iter_i = _check_optimize_result(\n",
      "C:\\Users\\gergo\\anaconda3\\lib\\site-packages\\sklearn\\linear_model\\_logistic.py:762: ConvergenceWarning: lbfgs failed to converge (status=1):\n",
      "STOP: TOTAL NO. of ITERATIONS REACHED LIMIT.\n",
      "\n",
      "Increase the number of iterations (max_iter) or scale the data as shown in:\n",
      "    https://scikit-learn.org/stable/modules/preprocessing.html\n",
      "Please also refer to the documentation for alternative solver options:\n",
      "    https://scikit-learn.org/stable/modules/linear_model.html#logistic-regression\n",
      "  n_iter_i = _check_optimize_result(\n"
     ]
    },
    {
     "data": {
      "text/plain": [
       "array([0.78212291, 0.78089888, 0.78089888, 0.76966292, 0.8258427 ])"
      ]
     },
     "execution_count": 23,
     "metadata": {},
     "output_type": "execute_result"
    }
   ],
   "source": [
    "lr1=LogisticRegression(C=C_best,max_iter=500)\n",
    "cross_val_score(lr1, X_train_val,y_train_val)"
   ]
  },
  {
   "cell_type": "code",
   "execution_count": null,
   "metadata": {},
   "outputs": [],
   "source": []
  },
  {
   "cell_type": "code",
   "execution_count": 24,
   "metadata": {},
   "outputs": [
    {
     "data": {
      "text/plain": [
       "'HW2: Come up with a way that undivisible samples can be split into uneven folds and still only use the samples only once for validation'"
      ]
     },
     "execution_count": 24,
     "metadata": {},
     "output_type": "execute_result"
    }
   ],
   "source": [
    "\"HW2: Come up with a way that undivisible samples can be split into uneven folds and still only use the samples only once for validation\""
   ]
  },
  {
   "cell_type": "code",
   "execution_count": 25,
   "metadata": {},
   "outputs": [
    {
     "name": "stdout",
     "output_type": "stream",
     "text": [
      "(143, 11) (143,) (570, 11) (570,)\n",
      "(143, 11) (143,) (570, 11) (570,)\n",
      "(143, 11) (143,) (570, 11) (570,)\n"
     ]
    },
    {
     "name": "stderr",
     "output_type": "stream",
     "text": [
      "C:\\Users\\gergo\\anaconda3\\lib\\site-packages\\sklearn\\linear_model\\_logistic.py:762: ConvergenceWarning: lbfgs failed to converge (status=1):\n",
      "STOP: TOTAL NO. of ITERATIONS REACHED LIMIT.\n",
      "\n",
      "Increase the number of iterations (max_iter) or scale the data as shown in:\n",
      "    https://scikit-learn.org/stable/modules/preprocessing.html\n",
      "Please also refer to the documentation for alternative solver options:\n",
      "    https://scikit-learn.org/stable/modules/linear_model.html#logistic-regression\n",
      "  n_iter_i = _check_optimize_result(\n"
     ]
    },
    {
     "name": "stdout",
     "output_type": "stream",
     "text": [
      "(143, 11) (143,) (570, 11) (570,)\n",
      "(140, 11) (140,) (572, 11) (572,)\n",
      "[0.8111888111888111, 0.8251748251748252, 0.8041958041958042, 0.7482517482517482, 0.8]\n"
     ]
    }
   ],
   "source": [
    "def split_manual(X,y,num_folds):\n",
    "    n_perfold=int(len(X)/num_folds)\n",
    "    remain=len(X)%num_folds\n",
    "    acc_vals=[]\n",
    "    g=0\n",
    "    for i in range(num_folds):\n",
    "        X_val_fold=X[n_perfold*i+g:n_perfold+n_perfold*i+1+g]\n",
    "        y_val_fold=y[n_perfold*i+g:n_perfold+n_perfold*i+1+g]\n",
    "        X_train_fold=np.concatenate((X[0:n_perfold*i+g],X[n_perfold+g+n_perfold*i:]),axis=0)\n",
    "        y_train_fold=np.concatenate((y[0:n_perfold*i+g],y[n_perfold+g+n_perfold*i:]),axis=0)\n",
    "        g+=1\n",
    "        print(\"{} {} {} {}\".format(X_val_fold.shape, y_val_fold.shape,X_train_fold.shape,  y_train_fold.shape ))\n",
    "        lr1=LogisticRegression(C=C_best,max_iter=500)\n",
    "        lr1.fit(X_train_fold, y_train_fold)\n",
    "        y_pred_val=lr1.predict(X_val_fold)\n",
    "        acc_val=accuracy_score(y_val_fold,y_pred_val)\n",
    "        acc_vals.append(acc_val)\n",
    "    return (acc_vals)\n",
    "print(split_manual(X_train,y_train,5))"
   ]
  },
  {
   "cell_type": "code",
   "execution_count": 26,
   "metadata": {},
   "outputs": [
    {
     "data": {
      "text/plain": [
       "'Ex: 11 samples and 3 folds'"
      ]
     },
     "execution_count": 26,
     "metadata": {},
     "output_type": "execute_result"
    }
   ],
   "source": [
    "\"Ex: 11 samples and 3 folds\""
   ]
  },
  {
   "cell_type": "code",
   "execution_count": 27,
   "metadata": {},
   "outputs": [
    {
     "data": {
      "text/plain": [
       "'Ex: 109 samples and 10 folds'"
      ]
     },
     "execution_count": 27,
     "metadata": {},
     "output_type": "execute_result"
    }
   ],
   "source": [
    "\"Ex: 109 samples and 10 folds\""
   ]
  },
  {
   "cell_type": "code",
   "execution_count": 53,
   "metadata": {},
   "outputs": [
    {
     "data": {
      "text/plain": [
       "0.8148703785073128"
      ]
     },
     "execution_count": 53,
     "metadata": {},
     "output_type": "execute_result"
    }
   ],
   "source": [
    "dt=DecisionTreeClassifier(max_depth=10,min_samples_split=20)\n",
    "np.mean(cross_val_score(dt, X_train_val,y_train_val))"
   ]
  },
  {
   "cell_type": "code",
   "execution_count": 52,
   "metadata": {},
   "outputs": [
    {
     "name": "stdout",
     "output_type": "stream",
     "text": [
      "5 15 0.7968614650681063\n",
      "5 16 0.7957567007720796\n",
      "5 17 0.79686774213797\n",
      "5 18 0.79686774213797\n",
      "5 19 0.8002385286548239\n",
      "5 20 0.8002385286548239\n",
      "5 21 0.8002385286548239\n",
      "5 22 0.797991337643588\n",
      "5 23 0.7912497646098802\n",
      "5 24 0.7912497646098802\n",
      "6 15 0.8002259745150964\n",
      "6 16 0.7968802962776975\n",
      "6 17 0.80023225158496\n",
      "6 18 0.7957567007720796\n",
      "6 19 0.8002448057246877\n",
      "6 20 0.7991274872889336\n",
      "6 21 0.7991274872889336\n",
      "6 22 0.7968802962776975\n",
      "6 23 0.7901387232439896\n",
      "6 24 0.7890151277383717\n",
      "7 15 0.8114619295712762\n",
      "7 16 0.8047454648170234\n",
      "7 17 0.8069801016885318\n",
      "7 18 0.8047454648170234\n",
      "7 19 0.8081099742640137\n",
      "7 20 0.8092335697696316\n",
      "7 21 0.8092335697696316\n",
      "7 22 0.8092335697696316\n",
      "7 23 0.8024919967359236\n",
      "7 24 0.8024982738057874\n",
      "8 15 0.8148452702278576\n",
      "8 16 0.8069989328981233\n",
      "8 17 0.8069926558282594\n",
      "8 18 0.807005209967987\n",
      "8 19 0.8137279517921036\n",
      "8 20 0.8126106333563493\n",
      "8 21 0.8126106333563493\n",
      "8 22 0.8103634423451134\n",
      "8 23 0.8058690603226415\n",
      "8 24 0.8036218693114054\n",
      "9 15 0.8137342288619672\n",
      "9 16 0.8070114870378507\n",
      "9 17 0.809252400979223\n",
      "9 18 0.8058941686020965\n",
      "9 19 0.8126169104262131\n",
      "9 20 0.8126169104262131\n",
      "9 21 0.812623187496077\n",
      "9 22 0.813740505931831\n",
      "9 23 0.8036344234511331\n",
      "9 24 0.8036281463812692\n",
      "10 15 0.8114933149205952\n",
      "10 16 0.8115058690603225\n",
      "10 17 0.810369719414977\n",
      "10 18 0.8081350825434687\n",
      "10 19 0.8137405059318311\n",
      "10 20 0.8159876969430669\n",
      "10 21 0.8137405059318311\n",
      "10 22 0.814864101437449\n",
      "10 23 0.804758018956751\n",
      "10 24 0.802510827945515\n",
      "11 15 0.8081413596133326\n",
      "11 16 0.8070240411775783\n",
      "11 17 0.8070114870378507\n",
      "11 18 0.8047768501663424\n",
      "11 19 0.8103885506245684\n",
      "11 20 0.8103822735547046\n",
      "11 21 0.8137405059318311\n",
      "11 22 0.8148641014374489\n",
      "11 23 0.8036281463812692\n",
      "11 24 0.8036281463812692\n",
      "12 15 0.8025233820852427\n",
      "12 16 0.8002887452137342\n",
      "12 17 0.7991525955683887\n",
      "12 18 0.7980352771326344\n",
      "12 19 0.8058878915322326\n",
      "12 20 0.8070052099679869\n",
      "12 21 0.8081288054736049\n",
      "12 22 0.8069989328981231\n",
      "12 23 0.7991337643587973\n",
      "12 24 0.7968928504174251\n",
      "13 15 0.8126294645659407\n",
      "13 16 0.8059004456719604\n",
      "13 17 0.8058878915322326\n",
      "13 18 0.7980352771326344\n",
      "13 19 0.8070114870378507\n",
      "13 20 0.8058941686020965\n",
      "13 21 0.805881614462369\n",
      "13 22 0.8070052099679869\n",
      "13 23 0.7968865733475613\n",
      "13 24 0.7957692549118071\n",
      "14 15 0.8070177641077146\n",
      "14 16 0.8025359362249702\n",
      "14 17 0.8058878915322326\n",
      "14 18 0.7991525955683887\n",
      "14 19 0.8047642960266147\n",
      "14 20 0.8058878915322326\n",
      "14 21 0.8081288054736049\n",
      "14 22 0.805881614462369\n",
      "14 23 0.7968928504174252\n",
      "14 24 0.7991337643587973\n",
      "(10, 20)\n"
     ]
    }
   ],
   "source": [
    "def DTC(a,b):\n",
    "    best_depth=0\n",
    "    best_split=0\n",
    "    best_cv=0\n",
    "    for i in range(5,15,1):\n",
    "        for g in range(15,25,1):\n",
    "            dt=DecisionTreeClassifier(max_depth=i,min_samples_split=g)\n",
    "            cv_score=cross_val_score(dt, X_train_val,y_train_val).mean()\n",
    "            print(i,g,cv_score)\n",
    "            if(cv_score>best_cv):\n",
    "                best_cv=cv_score\n",
    "                best_depth=i\n",
    "                best_split=g\n",
    "    return best_depth,best_split\n",
    "print(DTC(30,30))"
   ]
  },
  {
   "cell_type": "code",
   "execution_count": null,
   "metadata": {},
   "outputs": [],
   "source": []
  }
 ],
 "metadata": {
  "kernelspec": {
   "display_name": "Python 3",
   "language": "python",
   "name": "python3"
  },
  "language_info": {
   "codemirror_mode": {
    "name": "ipython",
    "version": 3
   },
   "file_extension": ".py",
   "mimetype": "text/x-python",
   "name": "python",
   "nbconvert_exporter": "python",
   "pygments_lexer": "ipython3",
   "version": "3.8.3"
  }
 },
 "nbformat": 4,
 "nbformat_minor": 4
}
